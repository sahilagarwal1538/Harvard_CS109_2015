{
 "cells": [
  {
   "cell_type": "markdown",
   "metadata": {},
   "source": [
    "## Probability and Statistics\n",
    "---"
   ]
  },
  {
   "cell_type": "markdown",
   "metadata": {},
   "source": [
    "### Probability\n",
    "2 common 'Notions':\n",
    "1. Relative Frequency\n",
    "    * A large number of coin tosses\n",
    "    * A large number of rolls of a dice\n",
    "2. Belief/ Model \n",
    "    * A fair coin\n",
    "    * An election forecasting model\n",
    "    * A weather forecasting model \n",
    "---\n",
    "##### Elaborating on the example of a weather forecasting model:\n",
    "\"90% chance of rain b/w 100mm-120mm today.\" How does it come about? \n",
    "<br/> Presumably this conclusion has been made from many computer *simulations* which take in weather conditions known in the past, and propagated using physics to the current day. The simulations give different results based on the uncertainty in the measurement of past weather, and the inability of the physics to capture the natural world exactly. But 90% of these simulations show rain b/w 100-120mm"
   ]
  },
  {
   "cell_type": "code",
   "execution_count": null,
   "metadata": {},
   "outputs": [],
   "source": []
  }
 ],
 "metadata": {
  "kernelspec": {
   "display_name": "Python 3",
   "language": "python",
   "name": "python3"
  },
  "language_info": {
   "codemirror_mode": {
    "name": "ipython",
    "version": 3
   },
   "file_extension": ".py",
   "mimetype": "text/x-python",
   "name": "python",
   "nbconvert_exporter": "python",
   "pygments_lexer": "ipython3",
   "version": "3.7.4"
  }
 },
 "nbformat": 4,
 "nbformat_minor": 2
}
