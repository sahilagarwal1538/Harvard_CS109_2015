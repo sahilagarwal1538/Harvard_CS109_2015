{
 "cells": [
  {
   "cell_type": "markdown",
   "metadata": {
    "slideshow": {
     "slide_type": ""
    }
   },
   "source": [
    "## The Big Picture:\n",
    "\n",
    "![IPython](venn_diagram.png \"IPython\")\n"
   ]
  },
  {
   "cell_type": "markdown",
   "metadata": {
    "slideshow": {
     "slide_type": "subslide"
    }
   },
   "source": [
    "#### The three core roles are referred as:\n",
    "* Data Engineering (setting up the entire infrastructure)\n",
    "* Data Analysis (providing statistical & mathematical analytics)\n",
    "* Business Intelligence (or, in general: Domain specialist) (setting the context & objectives)"
   ]
  },
  {
   "cell_type": "markdown",
   "metadata": {},
   "source": [
    "#### What all is involved in Data Engineering?\n",
    "- **compute**: python, spark, hadoop \n",
    "- **database & storage**: git, SQL, NoSQL like MongoDB, Hbase, Postgres, sqlite\n",
    "- **devops**: AWS, docker, mesos, repeatability\n",
    "- **product**: UI, API, web, viz., story"
   ]
  },
  {
   "cell_type": "markdown",
   "metadata": {},
   "source": [
    "#### Size issue choices:\n",
    "- memory\n",
    "- disk\n",
    "- cluster\n",
    "- doing computation where the data is!\n",
    "\n",
    "#### Access issue choices:\n",
    "- relational: SQL (pandas, sqlite, Postgres, Hbase, VoltDB)\n",
    "- document oriented: MongoDB (stores file after file as JSON)\n",
    "- key-value\n",
    "- graph oriented (fb networks, twitter networks)"
   ]
  },
  {
   "cell_type": "markdown",
   "metadata": {},
   "source": [
    "### Grammar of data:\n",
    "<br/> Hadley Wickham formalized this as follows:\n",
    "1. provide simple verbs for simple things (i.e. corresponding to common data manipulation tasks)\n",
    "2. second idea is that backend does not matter (e.g. Pandas, sqlite, Julia, SQL database, spark etc. whatever it is)\n"
   ]
  },
  {
   "cell_type": "markdown",
   "metadata": {},
   "source": [
    "#### Populating the Database"
   ]
  },
  {
   "cell_type": "code",
   "execution_count": 30,
   "metadata": {},
   "outputs": [],
   "source": [
    "ourschema= \"\"\"\n",
    "DROP TABLE IF EXISTS \"candidates\";\n",
    "DROP TABLE IF EXISTS \"contributors\";\n",
    "CREATE TABLE \"candidates\"\n",
    "    (\"id\" INTEGER PRIMARY KEY NOT NULL,\n",
    "    \"first_name\" VARCHAR,\n",
    "    \"last_name\" VARCHAR,\n",
    "    \"middle_name\" VARCHAR,\n",
    "    \"party\" VARCHAR NOT NULL);\n",
    "CREATE TABLE \"contributors\"\n",
    "    (\"id\" VARCHAR,\n",
    "    \"last_name\" VARCHAR,\n",
    "    \"first_name\" VARCHAR,\n",
    "    \"middle_name\" VARCHAR,\n",
    "    \"street_1\" VARCHAR,\n",
    "    \"street_2\" VARCHAR,\n",
    "    \"city\" VARCHAR,\n",
    "    \"state\" VARCHAR,\n",
    "    \"zip\" VARCHAR,\n",
    "    \"amount\" INTEGER,\n",
    "    \"date\" DATETIME,\n",
    "    \"candidate_id\" INTEGER NOT NULL,\n",
    "    FOREIGN KEY(candidate_id) REFERENCES candidates(id)\n",
    "    );\n",
    "\"\"\""
   ]
  },
  {
   "cell_type": "markdown",
   "metadata": {},
   "source": [
    "#### SQLITE \n",
    "0. Postgres is recommended for production purposes, however sqlite is great for large databases which fit on-disk but which won't fit into memory.\n",
    "1. Python implements a standard database API called DBAPI2, over most databases (sqlite is one of them). (There is an even high level API available called SQLAlchemy, but we won't use it here)"
   ]
  },
  {
   "cell_type": "code",
   "execution_count": 5,
   "metadata": {},
   "outputs": [],
   "source": [
    "# Connect and get a DBAPI2 connection\n",
    "\n",
    "from sqlite3 import dbapi2 as sq3\n",
    "import os\n",
    "PATHSTART=\".\"\n",
    "\n",
    "def get_db(dbfile):\n",
    "    \"\"\"Returns a connection to the database \"\"\"\n",
    "    sqlite_db= sq3.connect(os.path.join(PATHSTART,dbfile))\n",
    "    return sqlite_db"
   ]
  },
  {
   "cell_type": "code",
   "execution_count": 6,
   "metadata": {},
   "outputs": [],
   "source": [
    "# Drop tables if they exist & create them\n",
    "\n",
    "def init_db(dbfile, schema):\n",
    "    \"\"\"Creates the database tables based on the schema\"\"\"\n",
    "    db= get_db(dbfile)  ## get the connection to the database\n",
    "    db.cursor().executescript(schema) ## create the tables using the schema\n",
    "    db.commit() \n",
    "    return db"
   ]
  },
  {
   "cell_type": "code",
   "execution_count": 20,
   "metadata": {},
   "outputs": [
    {
     "data": {
      "text/html": [
       "<div>\n",
       "<style scoped>\n",
       "    .dataframe tbody tr th:only-of-type {\n",
       "        vertical-align: middle;\n",
       "    }\n",
       "\n",
       "    .dataframe tbody tr th {\n",
       "        vertical-align: top;\n",
       "    }\n",
       "\n",
       "    .dataframe thead th {\n",
       "        text-align: right;\n",
       "    }\n",
       "</style>\n",
       "<table border=\"1\" class=\"dataframe\">\n",
       "  <thead>\n",
       "    <tr style=\"text-align: right;\">\n",
       "      <th></th>\n",
       "      <th>id</th>\n",
       "      <th>last_name</th>\n",
       "      <th>first_name</th>\n",
       "      <th>middle_name</th>\n",
       "      <th>street_1</th>\n",
       "      <th>street_2</th>\n",
       "      <th>city</th>\n",
       "      <th>state</th>\n",
       "      <th>zip</th>\n",
       "      <th>amount</th>\n",
       "      <th>date</th>\n",
       "      <th>candidate_id</th>\n",
       "    </tr>\n",
       "  </thead>\n",
       "  <tbody>\n",
       "    <tr>\n",
       "      <td>0</td>\n",
       "      <td>NaN</td>\n",
       "      <td>Agee</td>\n",
       "      <td>Steven</td>\n",
       "      <td>NaN</td>\n",
       "      <td>549 Laurel Branch Road</td>\n",
       "      <td>NaN</td>\n",
       "      <td>Floyd</td>\n",
       "      <td>VA</td>\n",
       "      <td>24091</td>\n",
       "      <td>500.0</td>\n",
       "      <td>2007-06-30</td>\n",
       "      <td>16</td>\n",
       "    </tr>\n",
       "    <tr>\n",
       "      <td>1</td>\n",
       "      <td>NaN</td>\n",
       "      <td>Ahrens</td>\n",
       "      <td>Don</td>\n",
       "      <td>NaN</td>\n",
       "      <td>4034 Rennellwood Way</td>\n",
       "      <td>NaN</td>\n",
       "      <td>Pleasanton</td>\n",
       "      <td>CA</td>\n",
       "      <td>94566</td>\n",
       "      <td>250.0</td>\n",
       "      <td>2007-05-16</td>\n",
       "      <td>16</td>\n",
       "    </tr>\n",
       "    <tr>\n",
       "      <td>2</td>\n",
       "      <td>NaN</td>\n",
       "      <td>Ahrens</td>\n",
       "      <td>Don</td>\n",
       "      <td>NaN</td>\n",
       "      <td>4034 Rennellwood Way</td>\n",
       "      <td>NaN</td>\n",
       "      <td>Pleasanton</td>\n",
       "      <td>CA</td>\n",
       "      <td>94566</td>\n",
       "      <td>50.0</td>\n",
       "      <td>2007-06-18</td>\n",
       "      <td>16</td>\n",
       "    </tr>\n",
       "    <tr>\n",
       "      <td>3</td>\n",
       "      <td>NaN</td>\n",
       "      <td>Ahrens</td>\n",
       "      <td>Don</td>\n",
       "      <td>NaN</td>\n",
       "      <td>4034 Rennellwood Way</td>\n",
       "      <td>NaN</td>\n",
       "      <td>Pleasanton</td>\n",
       "      <td>CA</td>\n",
       "      <td>94566</td>\n",
       "      <td>100.0</td>\n",
       "      <td>2007-06-21</td>\n",
       "      <td>16</td>\n",
       "    </tr>\n",
       "    <tr>\n",
       "      <td>4</td>\n",
       "      <td>NaN</td>\n",
       "      <td>Akin</td>\n",
       "      <td>Charles</td>\n",
       "      <td>NaN</td>\n",
       "      <td>10187 Sugar Creek Road</td>\n",
       "      <td>NaN</td>\n",
       "      <td>Bentonville</td>\n",
       "      <td>AR</td>\n",
       "      <td>72712</td>\n",
       "      <td>100.0</td>\n",
       "      <td>2007-06-16</td>\n",
       "      <td>16</td>\n",
       "    </tr>\n",
       "  </tbody>\n",
       "</table>\n",
       "</div>"
      ],
      "text/plain": [
       "   id last_name first_name middle_name                street_1 street_2  \\\n",
       "0 NaN      Agee     Steven         NaN  549 Laurel Branch Road      NaN   \n",
       "1 NaN    Ahrens        Don         NaN    4034 Rennellwood Way      NaN   \n",
       "2 NaN    Ahrens        Don         NaN    4034 Rennellwood Way      NaN   \n",
       "3 NaN    Ahrens        Don         NaN    4034 Rennellwood Way      NaN   \n",
       "4 NaN      Akin    Charles         NaN  10187 Sugar Creek Road      NaN   \n",
       "\n",
       "          city state    zip  amount        date  candidate_id  \n",
       "0        Floyd    VA  24091   500.0  2007-06-30            16  \n",
       "1   Pleasanton    CA  94566   250.0  2007-05-16            16  \n",
       "2   Pleasanton    CA  94566    50.0  2007-06-18            16  \n",
       "3   Pleasanton    CA  94566   100.0  2007-06-21            16  \n",
       "4  Bentonville    AR  72712   100.0  2007-06-16            16  "
      ]
     },
     "execution_count": 20,
     "metadata": {},
     "output_type": "execute_result"
    }
   ],
   "source": [
    "# Use pandas to read in the data\n",
    "import pandas as pd\n",
    "\n",
    "df_candi= pd.read_csv(\"./candidates.txt\",sep=\"|\")\n",
    "df_cwci= pd.read_csv(\"./contributors_with_candidate_id.txt\", sep=\"|\")\n",
    "\n",
    "#df_candi.head()\n",
    "df_cwci.head()"
   ]
  },
  {
   "cell_type": "code",
   "execution_count": 21,
   "metadata": {},
   "outputs": [],
   "source": [
    "# but we want the 'id' in df_cwci to be autoincremented as mentioned in schema\n",
    "del df_cwci['id']\n"
   ]
  },
  {
   "cell_type": "code",
   "execution_count": 25,
   "metadata": {},
   "outputs": [
    {
     "data": {
      "text/html": [
       "<div>\n",
       "<style scoped>\n",
       "    .dataframe tbody tr th:only-of-type {\n",
       "        vertical-align: middle;\n",
       "    }\n",
       "\n",
       "    .dataframe tbody tr th {\n",
       "        vertical-align: top;\n",
       "    }\n",
       "\n",
       "    .dataframe thead th {\n",
       "        text-align: right;\n",
       "    }\n",
       "</style>\n",
       "<table border=\"1\" class=\"dataframe\">\n",
       "  <thead>\n",
       "    <tr style=\"text-align: right;\">\n",
       "      <th></th>\n",
       "      <th>last_name</th>\n",
       "      <th>first_name</th>\n",
       "      <th>middle_name</th>\n",
       "      <th>street_1</th>\n",
       "      <th>street_2</th>\n",
       "      <th>city</th>\n",
       "      <th>state</th>\n",
       "      <th>zip</th>\n",
       "      <th>amount</th>\n",
       "      <th>date</th>\n",
       "      <th>candidate_id</th>\n",
       "    </tr>\n",
       "  </thead>\n",
       "  <tbody>\n",
       "    <tr>\n",
       "      <td>0</td>\n",
       "      <td>Agee</td>\n",
       "      <td>Steven</td>\n",
       "      <td>NaN</td>\n",
       "      <td>549 Laurel Branch Road</td>\n",
       "      <td>NaN</td>\n",
       "      <td>Floyd</td>\n",
       "      <td>VA</td>\n",
       "      <td>24091</td>\n",
       "      <td>500.0</td>\n",
       "      <td>2007-06-30</td>\n",
       "      <td>16</td>\n",
       "    </tr>\n",
       "    <tr>\n",
       "      <td>1</td>\n",
       "      <td>Ahrens</td>\n",
       "      <td>Don</td>\n",
       "      <td>NaN</td>\n",
       "      <td>4034 Rennellwood Way</td>\n",
       "      <td>NaN</td>\n",
       "      <td>Pleasanton</td>\n",
       "      <td>CA</td>\n",
       "      <td>94566</td>\n",
       "      <td>250.0</td>\n",
       "      <td>2007-05-16</td>\n",
       "      <td>16</td>\n",
       "    </tr>\n",
       "    <tr>\n",
       "      <td>2</td>\n",
       "      <td>Ahrens</td>\n",
       "      <td>Don</td>\n",
       "      <td>NaN</td>\n",
       "      <td>4034 Rennellwood Way</td>\n",
       "      <td>NaN</td>\n",
       "      <td>Pleasanton</td>\n",
       "      <td>CA</td>\n",
       "      <td>94566</td>\n",
       "      <td>50.0</td>\n",
       "      <td>2007-06-18</td>\n",
       "      <td>16</td>\n",
       "    </tr>\n",
       "    <tr>\n",
       "      <td>3</td>\n",
       "      <td>Ahrens</td>\n",
       "      <td>Don</td>\n",
       "      <td>NaN</td>\n",
       "      <td>4034 Rennellwood Way</td>\n",
       "      <td>NaN</td>\n",
       "      <td>Pleasanton</td>\n",
       "      <td>CA</td>\n",
       "      <td>94566</td>\n",
       "      <td>100.0</td>\n",
       "      <td>2007-06-21</td>\n",
       "      <td>16</td>\n",
       "    </tr>\n",
       "    <tr>\n",
       "      <td>4</td>\n",
       "      <td>Akin</td>\n",
       "      <td>Charles</td>\n",
       "      <td>NaN</td>\n",
       "      <td>10187 Sugar Creek Road</td>\n",
       "      <td>NaN</td>\n",
       "      <td>Bentonville</td>\n",
       "      <td>AR</td>\n",
       "      <td>72712</td>\n",
       "      <td>100.0</td>\n",
       "      <td>2007-06-16</td>\n",
       "      <td>16</td>\n",
       "    </tr>\n",
       "  </tbody>\n",
       "</table>\n",
       "</div>"
      ],
      "text/plain": [
       "  last_name first_name middle_name                street_1 street_2  \\\n",
       "0      Agee     Steven         NaN  549 Laurel Branch Road      NaN   \n",
       "1    Ahrens        Don         NaN    4034 Rennellwood Way      NaN   \n",
       "2    Ahrens        Don         NaN    4034 Rennellwood Way      NaN   \n",
       "3    Ahrens        Don         NaN    4034 Rennellwood Way      NaN   \n",
       "4      Akin    Charles         NaN  10187 Sugar Creek Road      NaN   \n",
       "\n",
       "          city state    zip  amount        date  candidate_id  \n",
       "0        Floyd    VA  24091   500.0  2007-06-30            16  \n",
       "1   Pleasanton    CA  94566   250.0  2007-05-16            16  \n",
       "2   Pleasanton    CA  94566    50.0  2007-06-18            16  \n",
       "3   Pleasanton    CA  94566   100.0  2007-06-21            16  \n",
       "4  Bentonville    AR  72712   100.0  2007-06-16            16  "
      ]
     },
     "execution_count": 25,
     "metadata": {},
     "output_type": "execute_result"
    }
   ],
   "source": [
    "df_cwci.head()"
   ]
  },
  {
   "cell_type": "markdown",
   "metadata": {},
   "source": [
    "---"
   ]
  },
  {
   "cell_type": "markdown",
   "metadata": {},
   "source": [
    "#### Initializing the database"
   ]
  },
  {
   "cell_type": "code",
   "execution_count": 34,
   "metadata": {},
   "outputs": [],
   "source": [
    "db= init_db(\"election_finance.db\",ourschema)"
   ]
  },
  {
   "cell_type": "markdown",
   "metadata": {},
   "source": [
    "#### Option 1: Populating with pandas"
   ]
  },
  {
   "cell_type": "code",
   "execution_count": 35,
   "metadata": {},
   "outputs": [],
   "source": [
    "df_candi.to_sql(\"candidates\",db, if_exists=\"append\",index=False) #the index column of the dataframe means nothing for the database, so we put it as False\n",
    "df_cwci.to_sql(\"contributors\",db, if_exists=\"append\",index=False)"
   ]
  },
  {
   "cell_type": "markdown",
   "metadata": {},
   "source": [
    "#### Making queries"
   ]
  },
  {
   "cell_type": "code",
   "execution_count": 39,
   "metadata": {},
   "outputs": [
    {
     "data": {
      "text/plain": [
       "[(16, 'Mike', 'Huckabee', None, 'R'),\n",
       " (20, 'Barack', 'Obama', None, 'D'),\n",
       " (22, 'Rudolph', 'Giuliani', None, 'R'),\n",
       " (24, 'Mike', 'Gravel', None, 'D'),\n",
       " (26, 'John', 'Edwards', None, 'D'),\n",
       " (29, 'Bill', 'Richardson', None, 'D'),\n",
       " (30, 'Duncan', 'Hunter', None, 'R'),\n",
       " (31, 'Dennis', 'Kucinich', None, 'D'),\n",
       " (32, 'Ron', 'Paul', None, 'R'),\n",
       " (33, 'Joseph', 'Biden', None, 'D'),\n",
       " (34, 'Hillary', 'Clinton', 'R.', 'D'),\n",
       " (35, 'Mitt', 'Romney', None, 'R'),\n",
       " (36, 'Samuel', 'Brownback', None, 'R'),\n",
       " (37, 'John', 'McCain', None, 'R'),\n",
       " (38, 'Tom', 'Tancredo', None, 'R'),\n",
       " (39, 'Christopher', 'Dodd', 'J.', 'D'),\n",
       " (41, 'Fred', 'Thompson', 'D.', 'R')]"
      ]
     },
     "execution_count": 39,
     "metadata": {},
     "output_type": "execute_result"
    }
   ],
   "source": [
    "# selecting all the candidates and fetching them\n",
    "sel= \"\"\"\n",
    "SELECT * FROM candidates;\n",
    "\"\"\"\n",
    "c= db.cursor().execute(sel)\n",
    "c.fetchall()"
   ]
  },
  {
   "cell_type": "code",
   "execution_count": 63,
   "metadata": {},
   "outputs": [
    {
     "data": {
      "text/plain": [
       "[]"
      ]
     },
     "execution_count": 63,
     "metadata": {},
     "output_type": "execute_result"
    }
   ],
   "source": [
    "# removing all the candidates\n",
    "rem=\"\"\"\n",
    "DELETE FROM candidates;\n",
    "\"\"\"\n",
    "c= db.cursor().execute(rem)\n",
    "db.commit()\n",
    "c.fetchall()"
   ]
  },
  {
   "cell_type": "code",
   "execution_count": 44,
   "metadata": {},
   "outputs": [],
   "source": [
    "# Now that we have deleted the candidates table from our database, \n",
    "# its a good time to populate the database using Option 2"
   ]
  },
  {
   "cell_type": "markdown",
   "metadata": {},
   "source": [
    "#### Option 2: Populating using SQL INSERT\n",
    "Infact Option 1 won't work if the data that we are trying to enter is larger than the memory in the first place"
   ]
  },
  {
   "cell_type": "code",
   "execution_count": 78,
   "metadata": {},
   "outputs": [
    {
     "name": "stdout",
     "output_type": "stream",
     "text": [
      "33 Joseph Biden  D\n",
      "\n",
      "INSERT INTO candidates (id,first_name,last_name,middle_name,party) VALUES(?,?,?,?,?);\n",
      " (33, 'Joseph', 'Biden', '', 'D')\n",
      "\n",
      "\n",
      "\n",
      "36 Samuel Brownback  R\n",
      "\n",
      "INSERT INTO candidates (id,first_name,last_name,middle_name,party) VALUES(?,?,?,?,?);\n",
      " (36, 'Samuel', 'Brownback', '', 'R')\n",
      "\n",
      "\n",
      "\n",
      "34 Hillary Clinton R. D\n",
      "\n",
      "INSERT INTO candidates (id,first_name,last_name,middle_name,party) VALUES(?,?,?,?,?);\n",
      " (34, 'Hillary', 'Clinton', 'R.', 'D')\n",
      "\n",
      "\n",
      "\n",
      "39 Christopher Dodd J. D\n",
      "\n",
      "INSERT INTO candidates (id,first_name,last_name,middle_name,party) VALUES(?,?,?,?,?);\n",
      " (39, 'Christopher', 'Dodd', 'J.', 'D')\n",
      "\n",
      "\n",
      "\n",
      "26 John Edwards  D\n",
      "\n",
      "INSERT INTO candidates (id,first_name,last_name,middle_name,party) VALUES(?,?,?,?,?);\n",
      " (26, 'John', 'Edwards', '', 'D')\n",
      "\n",
      "\n",
      "\n",
      "22 Rudolph Giuliani  R\n",
      "\n",
      "INSERT INTO candidates (id,first_name,last_name,middle_name,party) VALUES(?,?,?,?,?);\n",
      " (22, 'Rudolph', 'Giuliani', '', 'R')\n",
      "\n",
      "\n",
      "\n",
      "24 Mike Gravel  D\n",
      "\n",
      "INSERT INTO candidates (id,first_name,last_name,middle_name,party) VALUES(?,?,?,?,?);\n",
      " (24, 'Mike', 'Gravel', '', 'D')\n",
      "\n",
      "\n",
      "\n",
      "16 Mike Huckabee  R\n",
      "\n",
      "INSERT INTO candidates (id,first_name,last_name,middle_name,party) VALUES(?,?,?,?,?);\n",
      " (16, 'Mike', 'Huckabee', '', 'R')\n",
      "\n",
      "\n",
      "\n",
      "30 Duncan Hunter  R\n",
      "\n",
      "INSERT INTO candidates (id,first_name,last_name,middle_name,party) VALUES(?,?,?,?,?);\n",
      " (30, 'Duncan', 'Hunter', '', 'R')\n",
      "\n",
      "\n",
      "\n",
      "31 Dennis Kucinich  D\n",
      "\n",
      "INSERT INTO candidates (id,first_name,last_name,middle_name,party) VALUES(?,?,?,?,?);\n",
      " (31, 'Dennis', 'Kucinich', '', 'D')\n",
      "\n",
      "\n",
      "\n",
      "37 John McCain  R\n",
      "\n",
      "INSERT INTO candidates (id,first_name,last_name,middle_name,party) VALUES(?,?,?,?,?);\n",
      " (37, 'John', 'McCain', '', 'R')\n",
      "\n",
      "\n",
      "\n",
      "20 Barack Obama  D\n",
      "\n",
      "INSERT INTO candidates (id,first_name,last_name,middle_name,party) VALUES(?,?,?,?,?);\n",
      " (20, 'Barack', 'Obama', '', 'D')\n",
      "\n",
      "\n",
      "\n",
      "32 Ron Paul  R\n",
      "\n",
      "INSERT INTO candidates (id,first_name,last_name,middle_name,party) VALUES(?,?,?,?,?);\n",
      " (32, 'Ron', 'Paul', '', 'R')\n",
      "\n",
      "\n",
      "\n",
      "29 Bill Richardson  D\n",
      "\n",
      "INSERT INTO candidates (id,first_name,last_name,middle_name,party) VALUES(?,?,?,?,?);\n",
      " (29, 'Bill', 'Richardson', '', 'D')\n",
      "\n",
      "\n",
      "\n",
      "35 Mitt Romney  R\n",
      "\n",
      "INSERT INTO candidates (id,first_name,last_name,middle_name,party) VALUES(?,?,?,?,?);\n",
      " (35, 'Mitt', 'Romney', '', 'R')\n",
      "\n",
      "\n",
      "\n",
      "38 Tom Tancredo  R\n",
      "\n",
      "INSERT INTO candidates (id,first_name,last_name,middle_name,party) VALUES(?,?,?,?,?);\n",
      " (38, 'Tom', 'Tancredo', '', 'R')\n",
      "\n",
      "\n",
      "\n",
      "41 Fred Thompson D. R\n",
      "\n",
      "INSERT INTO candidates (id,first_name,last_name,middle_name,party) VALUES(?,?,?,?,?);\n",
      " (41, 'Fred', 'Thompson', 'D.', 'R')\n",
      "\n",
      "\n",
      "\n"
     ]
    }
   ],
   "source": [
    "ins= \"\"\"\n",
    "INSERT INTO candidates (id,first_name,last_name,middle_name,party) VALUES(?,?,?,?,?);\n",
    "\"\"\"\n",
    "slines=[]\n",
    "with open(\"candidates.txt\") as f:\n",
    "    \n",
    "    for l in f.readlines():\n",
    "        slines.append(l.strip().split('|'))\n",
    "        \n",
    "    for line in slines[1:]: # we start from the 2nd line because the first line will be all column names\n",
    "        theid, first_name, last_name, middle_name, party= line\n",
    "        print(theid,first_name,last_name,middle_name,party)\n",
    "        values_to_insert= (int(theid), first_name, last_name, middle_name, party)\n",
    "        print(ins,values_to_insert,end='\\n\\n\\n\\n')\n",
    "        db.cursor().execute(ins, values_to_insert)\n",
    "        "
   ]
  },
  {
   "cell_type": "markdown",
   "metadata": {},
   "source": [
    "#### Making some queries"
   ]
  },
  {
   "cell_type": "code",
   "execution_count": 79,
   "metadata": {},
   "outputs": [],
   "source": [
    "# selecting and fetching all rows\n",
    "def make_query(sel):\n",
    "    c=db.cursor().execute(sel)\n",
    "    return c.fetchall()"
   ]
  },
  {
   "cell_type": "code",
   "execution_count": 80,
   "metadata": {},
   "outputs": [
    {
     "data": {
      "text/plain": [
       "[(16, 'Mike', 'Huckabee', '', 'R'),\n",
       " (20, 'Barack', 'Obama', '', 'D'),\n",
       " (22, 'Rudolph', 'Giuliani', '', 'R'),\n",
       " (24, 'Mike', 'Gravel', '', 'D'),\n",
       " (26, 'John', 'Edwards', '', 'D'),\n",
       " (29, 'Bill', 'Richardson', '', 'D'),\n",
       " (30, 'Duncan', 'Hunter', '', 'R'),\n",
       " (31, 'Dennis', 'Kucinich', '', 'D'),\n",
       " (32, 'Ron', 'Paul', '', 'R'),\n",
       " (33, 'Joseph', 'Biden', '', 'D'),\n",
       " (34, 'Hillary', 'Clinton', 'R.', 'D'),\n",
       " (35, 'Mitt', 'Romney', '', 'R'),\n",
       " (36, 'Samuel', 'Brownback', '', 'R'),\n",
       " (37, 'John', 'McCain', '', 'R'),\n",
       " (38, 'Tom', 'Tancredo', '', 'R'),\n",
       " (39, 'Christopher', 'Dodd', 'J.', 'D'),\n",
       " (41, 'Fred', 'Thompson', 'D.', 'R')]"
      ]
     },
     "execution_count": 80,
     "metadata": {},
     "output_type": "execute_result"
    }
   ],
   "source": [
    "make_query(\"SELECT * FROM candidates\")"
   ]
  },
  {
   "cell_type": "markdown",
   "metadata": {},
   "source": [
    "### Making many more Queries/ Verbs\n",
    "\n",
    "#### Single table Verbs\n",
    "See https://gist.github.com/TomAugspurger/6e052140eaa5fdb6e8c0/ which has a comparison of R/dplyr and pandas. I stole and modified this table from there:\n",
    "\n",
    "``dplyr`` has a small set of nicely defined verbs. I've listed their closest pandas verbs.\n",
    "\n",
    "\n",
    "<table>\n",
    "  <tr>\n",
    "    <th><b>VERB</b></th>\n",
    "    <th><b>dplyr</b></th>\n",
    "    <th><b>pandas</b></th>\n",
    "    <th><b>SQL</b></th>\n",
    "  </tr>\n",
    "  <tr>\n",
    "    <td>QUERY/SELECTION</td>\n",
    "    <td>filter() (and slice())</td>\n",
    "    <td>query() (and loc[], iloc[])</td>\n",
    "    <td>SELECT WHERE</td>\n",
    "  </tr>\n",
    "  <tr>\n",
    "    <td>SORT</td>\n",
    "    <td>arrange()</td>\n",
    "    <td>sort()</td>\n",
    "    <td>ORDER BY</td>\n",
    "  </tr>\n",
    "  <tr>\n",
    "    <td>SELECT-COLUMNS/PROJECTION</td>\n",
    "    <td>select() (and rename())</td>\n",
    "    <td>[](__getitem__) (and rename())</td>\n",
    "    <td>SELECT COLUMN</td>\n",
    "  </tr>\n",
    "  <tr>\n",
    "    <td>SELECT-DISTINCT</td>\n",
    "    <td>distinct()</td>\n",
    "    <td>unique(),drop_duplicates()</td>\n",
    "    <td>SELECT DISTINCT COLUMN</td>\n",
    "  </tr>\n",
    "  <tr>\n",
    "    <td>ASSIGN</td>\n",
    "    <td>mutate() (and transmute())</td>\n",
    "    <td>assign</td>\n",
    "    <td>ALTER/UPDATE</td>\n",
    "  </tr>\n",
    "  <tr>\n",
    "    <td>AGGREGATE</td>\n",
    "    <td>summarise()</td>\n",
    "    <td>describe(), mean(), max()</td>\n",
    "    <td>None, AVG(),MAX()</td>\n",
    "  </tr>\n",
    "  <tr>\n",
    "    <td>SAMPLE</td>\n",
    "    <td>sample_n() and sample_frac()</td>\n",
    "    <td>sample()</td>\n",
    "    <td>implementation dep, use RAND()</td>\n",
    "  </tr>\n",
    "  <tr>\n",
    "    <td>GROUP-AGG</td>\n",
    "    <td>group_by/summarize</td>\n",
    "    <td>groupby/agg, count, mean</td>\n",
    "    <td>GROUP BY</td>\n",
    "  </tr>\n",
    "  <tr>\n",
    "    <td>DELETE</td>\n",
    "    <td>?</td>\n",
    "    <td>drop/masking</td>\n",
    "    <td>DELETE/WHERE</td>\n",
    "  </tr>\n",
    "</table>\n",
    "\n",
    "#### Verbs involving multiple tables"
   ]
  },
  {
   "cell_type": "markdown",
   "metadata": {},
   "source": []
  }
 ],
 "metadata": {
  "kernelspec": {
   "display_name": "Python 3",
   "language": "python",
   "name": "python3"
  },
  "language_info": {
   "codemirror_mode": {
    "name": "ipython",
    "version": 3
   },
   "file_extension": ".py",
   "mimetype": "text/x-python",
   "name": "python",
   "nbconvert_exporter": "python",
   "pygments_lexer": "ipython3",
   "version": "3.7.4"
  }
 },
 "nbformat": 4,
 "nbformat_minor": 2
}
