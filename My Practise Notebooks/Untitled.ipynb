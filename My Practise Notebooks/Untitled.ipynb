{
 "cells": [
  {
   "cell_type": "markdown",
   "metadata": {
    "slideshow": {
     "slide_type": "slide"
    }
   },
   "source": [
    "IPython Notebooks:\n",
    "===================\n",
    "\n",
    "![IPython](ipython-Copy1.png \"IPython\")"
   ]
  },
  {
   "cell_type": "code",
   "execution_count": 10,
   "metadata": {},
   "outputs": [],
   "source": [
    "# A programmer is someone who can turn stack overflow into running code!"
   ]
  },
  {
   "cell_type": "markdown",
   "metadata": {},
   "source": [
    "## Web Scraping\n",
    "1. From Website (may not be allowed for some sites by law/by website authors, mostly the same process for any website)\n",
    "2. From API (need to register often, application specific)\n",
    "<br/> Please keep in mind the copyrights & permission:\n",
    "<br/>-- be careful & polite\n",
    "<br/>-- give credit\n",
    "<br/>-- care about media law\n",
    "<br/>-- don't be evil (no spam, overloading sites, etc.)(i.e. be nice to their servers e.g. sleep, make a request only every 10 seconds etc.)\n",
    "<br/> robots.txt (e.g. http://www.example.com/robots.txt)\n",
    "<br/> can be ignored !"
   ]
  },
  {
   "cell_type": "markdown",
   "metadata": {},
   "source": [
    "<br/>fn+F12 (to open the Inspect Element)\n",
    "<br/>command+shift+C  OR, simply select the (box-arrow) icon on the top left corner (to activate selection of any element in the page to inspect)\n",
    "Once you select an element (it gets deactivated for you to focus on the HTML code of that element only)\n",
    "<br/> You may wanna collapse the ribbon of the selected element to see the full HTML code of that element"
   ]
  },
  {
   "cell_type": "code",
   "execution_count": null,
   "metadata": {},
   "outputs": [],
   "source": []
  }
 ],
 "metadata": {
  "kernelspec": {
   "display_name": "Python 3",
   "language": "python",
   "name": "python3"
  },
  "language_info": {
   "codemirror_mode": {
    "name": "ipython",
    "version": 3
   },
   "file_extension": ".py",
   "mimetype": "text/x-python",
   "name": "python",
   "nbconvert_exporter": "python",
   "pygments_lexer": "ipython3",
   "version": "3.7.4"
  }
 },
 "nbformat": 4,
 "nbformat_minor": 2
}
